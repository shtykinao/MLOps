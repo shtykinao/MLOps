{
 "cells": [
  {
   "cell_type": "code",
   "execution_count": 29,
   "metadata": {},
   "outputs": [],
   "source": [
    "import torch\n",
    "import torchvision\n",
    "import torchvision.transforms as transforms\n",
    "import torch.nn as nn\n",
    "import torch.optim as optim\n",
    "import time\n",
    "import numpy as np\n",
    "import onnx\n",
    "import onnxruntime\n",
    "from onnxruntime.quantization import quantize_dynamic, QuantType\n",
    "import bentoml\n",
    "import torch.nn.functional as F\n",
    "from bentoml.io import Image\n",
    "import pandas as pd\n",
    "import matplotlib.pyplot as plt\n",
    "import torch.onnx\n",
    "import asyncio\n"
   ]
  },
  {
   "cell_type": "markdown",
   "metadata": {},
   "source": [
    "### Модель"
   ]
  },
  {
   "cell_type": "code",
   "execution_count": 2,
   "metadata": {},
   "outputs": [],
   "source": [
    "class NetBN(nn.Module):  # Новое имя класса для модели с BN\n",
    "    def __init__(self):\n",
    "        super().__init__()\n",
    "        self.conv1 = nn.Conv2d(3, 32, 3, padding=1) # <- Исправлено\n",
    "        self.bn1 = nn.BatchNorm2d(32)\n",
    "        self.conv2 = nn.Conv2d(32, 64, 3, padding=1)\n",
    "        self.bn2 = nn.BatchNorm2d(64)\n",
    "        self.pool = nn.MaxPool2d(2, 2)\n",
    "        self.fc1 = nn.Linear(64 * 8 * 8, 512)\n",
    "        self.fc2 = nn.Linear(512, 100)\n",
    "\n",
    "    def forward(self, x):\n",
    "        x = self.pool(F.relu(self.bn1(self.conv1(x)))) # BN после conv1 и ReLU\n",
    "        x = self.pool(F.relu(self.bn2(self.conv2(x)))) # BN после conv2 и ReLU\n",
    "        x = x.view(-1, 64 * 8 * 8)\n",
    "        x = F.relu(self.fc1(x))\n",
    "        x = self.fc2(x)\n",
    "        return x"
   ]
  },
  {
   "cell_type": "markdown",
   "metadata": {},
   "source": [
    "### Тренировка + Тестирование"
   ]
  },
  {
   "cell_type": "code",
   "execution_count": 3,
   "metadata": {},
   "outputs": [],
   "source": [
    "def train(model, optimizer, epochs, trainloader, series='default'):\n",
    "    criterion = nn.CrossEntropyLoss() # Используем CrossEntropyLoss\n",
    "    for epoch in range(1, epochs + 1):\n",
    "        model.train()\n",
    "        for batch_idx, (data, target) in enumerate(trainloader):\n",
    "            optimizer.zero_grad()\n",
    "            output = model(data)\n",
    "            loss = criterion(output, target)\n",
    "            loss.backward()\n",
    "            optimizer.step()\n",
    "        train_accuracy = test(model, trainloader, \"Train\")\n",
    "        print(f'Train Epoch: {epoch}\\tLoss: {loss.item():.6f}\\tAccuracy: {train_accuracy:.2f}%')\n",
    "\n",
    "\n",
    "def test(model, dataloader, data_type=\"Test\"):\n",
    "    model.eval()\n",
    "    test_loss = 0\n",
    "    correct = 0\n",
    "    criterion = nn.CrossEntropyLoss(reduction='sum') # Используем CrossEntropyLoss\n",
    "    with torch.no_grad():\n",
    "        for data, target in dataloader:\n",
    "            output = model(data)\n",
    "            test_loss += criterion(output, target).item()\n",
    "            pred = output.argmax(dim=1, keepdim=True)\n",
    "            correct += pred.eq(target.view_as(pred)).sum().item()\n",
    "\n",
    "    test_loss /= len(dataloader.dataset)\n",
    "    accuracy = 100. * correct / len(dataloader.dataset)\n",
    "    print(f'\\n{data_type} set: Average loss: {test_loss:.4f}, Accuracy: {correct}/{len(dataloader.dataset)} ({accuracy:.0f}%)\\n')\n",
    "    return accuracy"
   ]
  },
  {
   "cell_type": "markdown",
   "metadata": {},
   "source": [
    "### Датасет"
   ]
  },
  {
   "cell_type": "code",
   "execution_count": 4,
   "metadata": {},
   "outputs": [
    {
     "name": "stdout",
     "output_type": "stream",
     "text": [
      "Downloading https://www.cs.toronto.edu/~kriz/cifar-100-python.tar.gz to ./data/cifar-100-python.tar.gz\n"
     ]
    },
    {
     "name": "stderr",
     "output_type": "stream",
     "text": [
      "100.0%\n"
     ]
    },
    {
     "name": "stdout",
     "output_type": "stream",
     "text": [
      "Extracting ./data/cifar-100-python.tar.gz to ./data\n",
      "Files already downloaded and verified\n"
     ]
    }
   ],
   "source": [
    "import ssl\n",
    "ssl._create_default_https_context = ssl._create_unverified_context\n",
    "\n",
    "transform = transforms.Compose([\n",
    "    transforms.ToTensor(),\n",
    "    transforms.Normalize((0.5, 0.5, 0.5), (0.5, 0.5, 0.5))\n",
    "])\n",
    "\n",
    "transform_train = transforms.Compose([\n",
    "    transforms.RandomCrop(32, padding=4),\n",
    "    transforms.RandomHorizontalFlip(),\n",
    "    transforms.ToTensor(),\n",
    "    transforms.Normalize((0.5, 0.5, 0.5), (0.5, 0.5, 0.5)),\n",
    "])\n",
    "\n",
    "batch_size = 1024\n",
    "\n",
    "trainset = torchvision.datasets.CIFAR100(root='./data', train=True, download=True, transform=transform_train)\n",
    "trainloader = torch.utils.data.DataLoader(trainset, batch_size=batch_size, shuffle=True, num_workers=2)\n",
    "\n",
    "testset = torchvision.datasets.CIFAR100(root='./data', train=False, download=True, transform=transform)\n",
    "testloader = torch.utils.data.DataLoader(testset, batch_size=batch_size, shuffle=False, num_workers=2)"
   ]
  },
  {
   "cell_type": "markdown",
   "metadata": {},
   "source": [
    "### Обучение модели"
   ]
  },
  {
   "cell_type": "code",
   "execution_count": 6,
   "metadata": {},
   "outputs": [
    {
     "name": "stdout",
     "output_type": "stream",
     "text": [
      "\n",
      "Train set: Average loss: 3.5947, Accuracy: 7329/50000 (15%)\n",
      "\n",
      "Train Epoch: 1\tLoss: 3.585986\tAccuracy: 14.66%\n",
      "\n",
      "Train set: Average loss: 3.1474, Accuracy: 11633/50000 (23%)\n",
      "\n",
      "Train Epoch: 2\tLoss: 3.182037\tAccuracy: 23.27%\n",
      "\n",
      "Train set: Average loss: 2.9141, Accuracy: 13793/50000 (28%)\n",
      "\n",
      "Train Epoch: 3\tLoss: 2.960262\tAccuracy: 27.59%\n",
      "\n",
      "Train set: Average loss: 2.7309, Accuracy: 15723/50000 (31%)\n",
      "\n",
      "Train Epoch: 4\tLoss: 2.700692\tAccuracy: 31.45%\n",
      "\n",
      "Train set: Average loss: 2.6078, Accuracy: 17037/50000 (34%)\n",
      "\n",
      "Train Epoch: 5\tLoss: 2.717317\tAccuracy: 34.07%\n",
      "\n",
      "Train set: Average loss: 2.5474, Accuracy: 17426/50000 (35%)\n",
      "\n",
      "Train Epoch: 6\tLoss: 2.533091\tAccuracy: 34.85%\n",
      "\n",
      "Train set: Average loss: 2.4469, Accuracy: 18652/50000 (37%)\n",
      "\n",
      "Train Epoch: 7\tLoss: 2.580465\tAccuracy: 37.30%\n",
      "\n",
      "Train set: Average loss: 2.3766, Accuracy: 19492/50000 (39%)\n",
      "\n",
      "Train Epoch: 8\tLoss: 2.377970\tAccuracy: 38.98%\n",
      "\n",
      "Train set: Average loss: 2.3270, Accuracy: 19953/50000 (40%)\n",
      "\n",
      "Train Epoch: 9\tLoss: 2.334612\tAccuracy: 39.91%\n",
      "\n",
      "Train set: Average loss: 2.2937, Accuracy: 20165/50000 (40%)\n",
      "\n",
      "Train Epoch: 10\tLoss: 2.284658\tAccuracy: 40.33%\n",
      "\n",
      "Train set: Average loss: 2.2193, Accuracy: 21227/50000 (42%)\n",
      "\n",
      "Train Epoch: 11\tLoss: 2.418322\tAccuracy: 42.45%\n",
      "\n",
      "Train set: Average loss: 2.1639, Accuracy: 21663/50000 (43%)\n",
      "\n",
      "Train Epoch: 12\tLoss: 2.195420\tAccuracy: 43.33%\n",
      "\n",
      "Train set: Average loss: 2.1398, Accuracy: 21903/50000 (44%)\n",
      "\n",
      "Train Epoch: 13\tLoss: 2.128656\tAccuracy: 43.81%\n",
      "\n",
      "Train set: Average loss: 2.1088, Accuracy: 22122/50000 (44%)\n",
      "\n",
      "Train Epoch: 14\tLoss: 2.070566\tAccuracy: 44.24%\n",
      "\n",
      "Train set: Average loss: 2.0975, Accuracy: 22422/50000 (45%)\n",
      "\n",
      "Train Epoch: 15\tLoss: 2.222607\tAccuracy: 44.84%\n",
      "\n",
      "Train set: Average loss: 2.0876, Accuracy: 22693/50000 (45%)\n",
      "\n",
      "Train Epoch: 16\tLoss: 2.045223\tAccuracy: 45.39%\n",
      "\n",
      "Train set: Average loss: 1.9893, Accuracy: 23600/50000 (47%)\n",
      "\n",
      "Train Epoch: 17\tLoss: 2.067576\tAccuracy: 47.20%\n",
      "\n",
      "Train set: Average loss: 2.0092, Accuracy: 23420/50000 (47%)\n",
      "\n",
      "Train Epoch: 18\tLoss: 1.989806\tAccuracy: 46.84%\n",
      "\n",
      "Train set: Average loss: 1.9835, Accuracy: 23628/50000 (47%)\n",
      "\n",
      "Train Epoch: 19\tLoss: 2.084182\tAccuracy: 47.26%\n",
      "\n",
      "Train set: Average loss: 1.9464, Accuracy: 24053/50000 (48%)\n",
      "\n",
      "Train Epoch: 20\tLoss: 1.868987\tAccuracy: 48.11%\n",
      "\n",
      "Train set: Average loss: 1.9288, Accuracy: 24233/50000 (48%)\n",
      "\n",
      "Train Epoch: 21\tLoss: 2.045394\tAccuracy: 48.47%\n",
      "\n",
      "Train set: Average loss: 1.9074, Accuracy: 24543/50000 (49%)\n",
      "\n",
      "Train Epoch: 22\tLoss: 1.927179\tAccuracy: 49.09%\n",
      "\n",
      "Train set: Average loss: 1.8474, Accuracy: 25205/50000 (50%)\n",
      "\n",
      "Train Epoch: 23\tLoss: 1.930812\tAccuracy: 50.41%\n",
      "\n",
      "Train set: Average loss: 1.9329, Accuracy: 24176/50000 (48%)\n",
      "\n",
      "Train Epoch: 24\tLoss: 1.943696\tAccuracy: 48.35%\n",
      "\n",
      "Train set: Average loss: 1.8443, Accuracy: 25197/50000 (50%)\n",
      "\n",
      "Train Epoch: 25\tLoss: 1.823782\tAccuracy: 50.39%\n",
      "\n",
      "Train set: Average loss: 1.8247, Accuracy: 25595/50000 (51%)\n",
      "\n",
      "Train Epoch: 26\tLoss: 1.868359\tAccuracy: 51.19%\n",
      "\n",
      "Test set: Average loss: 1.9748, Accuracy: 4896/10000 (49%)\n",
      "\n"
     ]
    }
   ],
   "source": [
    "model = NetBN()\n",
    "optimizer = optim.Adam(model.parameters(), lr=0.001)\n",
    "train(model, optimizer, epochs=26, trainloader=trainloader, series='Adam Optimizer')\n",
    "test_accuracy_bn = test(model, testloader)"
   ]
  },
  {
   "cell_type": "markdown",
   "metadata": {},
   "source": [
    "### 2.1 Выбор устройства (CPU/GPU)"
   ]
  },
  {
   "cell_type": "code",
   "execution_count": 7,
   "metadata": {},
   "outputs": [
    {
     "data": {
      "text/plain": [
       "NetBN(\n",
       "  (conv1): Conv2d(3, 32, kernel_size=(3, 3), stride=(1, 1), padding=(1, 1))\n",
       "  (bn1): BatchNorm2d(32, eps=1e-05, momentum=0.1, affine=True, track_running_stats=True)\n",
       "  (conv2): Conv2d(32, 64, kernel_size=(3, 3), stride=(1, 1), padding=(1, 1))\n",
       "  (bn2): BatchNorm2d(64, eps=1e-05, momentum=0.1, affine=True, track_running_stats=True)\n",
       "  (pool): MaxPool2d(kernel_size=2, stride=2, padding=0, dilation=1, ceil_mode=False)\n",
       "  (fc1): Linear(in_features=4096, out_features=512, bias=True)\n",
       "  (fc2): Linear(in_features=512, out_features=100, bias=True)\n",
       ")"
      ]
     },
     "execution_count": 7,
     "metadata": {},
     "output_type": "execute_result"
    }
   ],
   "source": [
    "device = torch.device(\"cuda\" if torch.cuda.is_available() else \"cpu\")\n",
    "model.to(device)"
   ]
  },
  {
   "cell_type": "markdown",
   "metadata": {},
   "source": [
    "### 2.2 Измерение времени выполнения"
   ]
  },
  {
   "cell_type": "code",
   "execution_count": 8,
   "metadata": {},
   "outputs": [],
   "source": [
    "def measure_time(model, input_tensor, device):\n",
    "    start_time = time.time()\n",
    "    model(input_tensor)  # Выполняем один проход модели\n",
    "    end_time = time.time()\n",
    "    return end_time - start_time"
   ]
  },
  {
   "cell_type": "code",
   "execution_count": 9,
   "metadata": {},
   "outputs": [
    {
     "name": "stdout",
     "output_type": "stream",
     "text": [
      "CPU time: 0.2304 seconds\n"
     ]
    }
   ],
   "source": [
    "\n",
    "dummy_input_cpu = torch.randn(batch_size, 3, 32, 32).to(\"cpu\")\n",
    "\n",
    "# Измеряем время на CPU\n",
    "cpu_time = measure_time(model, dummy_input_cpu, \"cpu\")\n",
    "\n",
    "print(f\"CPU time: {cpu_time:.4f} seconds\")"
   ]
  },
  {
   "cell_type": "code",
   "execution_count": 11,
   "metadata": {},
   "outputs": [
    {
     "name": "stdout",
     "output_type": "stream",
     "text": [
      "   measureTime\n",
      "0     0.282132\n",
      "1     0.188522\n",
      "2     0.198553\n",
      "3     0.195736\n",
      "4     0.191503\n",
      "5     0.189117\n",
      "6     0.185271\n",
      "7     0.194119\n",
      "8     0.190160\n",
      "9     0.208048\n",
      "\n",
      "measureTime    0.202316\n",
      "dtype: float64\n"
     ]
    }
   ],
   "source": [
    "times = []\n",
    "for i in range(10):\n",
    "    times.append(measure_time(model, dummy_input_cpu, \"cpu\"))\n",
    "\n",
    "times = pd.DataFrame({'measureTime': times})\n",
    "print(times, times.mean(), sep='\\n\\n')"
   ]
  },
  {
   "cell_type": "markdown",
   "metadata": {},
   "source": [
    "### 2.3 Измерение точности"
   ]
  },
  {
   "cell_type": "code",
   "execution_count": 12,
   "metadata": {},
   "outputs": [],
   "source": [
    "def evaluate_accuracy(model, dataloader, device):\n",
    "    model.eval()  # Переключаем модель в режим оценки\n",
    "    correct = 0\n",
    "    total = 0\n",
    "    with torch.no_grad():  # Не нужно вычислять градиенты\n",
    "        for images, labels in dataloader:\n",
    "            images, labels = images.to(device), labels.to(device) # Перемещаем данные на устройство\n",
    "            outputs = model(images)\n",
    "            _, predicted = torch.max(outputs.data, 1) # Получаем предсказанные классы\n",
    "            total += labels.size(0)\n",
    "            correct += (predicted == labels).sum().item() # Считаем количество правильных ответов\n",
    "    accuracy = 100 * correct / total\n",
    "    return accuracy"
   ]
  },
  {
   "cell_type": "code",
   "execution_count": 13,
   "metadata": {},
   "outputs": [
    {
     "name": "stdout",
     "output_type": "stream",
     "text": [
      "Test accuracy: 48.96%\n"
     ]
    }
   ],
   "source": [
    "test_accuracy = evaluate_accuracy(model, testloader, device)\n",
    "print(f\"Test accuracy: {test_accuracy:.2f}%\")"
   ]
  },
  {
   "cell_type": "markdown",
   "metadata": {},
   "source": [
    "### 2.4 Сбор корректных и ошибочных примеров"
   ]
  },
  {
   "cell_type": "code",
   "execution_count": 14,
   "metadata": {},
   "outputs": [],
   "source": [
    "dataiter = iter(testloader)\n",
    "images, labels = next(dataiter)\n",
    "images, labels = images.to(device), labels.to(device) # Не забываем про device\n",
    "outputs = model(images)\n",
    "_, predicted = torch.max(outputs, 1)\n",
    "\n",
    "correct_examples = [(images[i].cpu(), labels[i].cpu(), predicted[i].cpu()) for i in range(len(images)) if predicted[i] == labels[i]][:5] # added .cpu()\n",
    "incorrect_examples = [(images[i].cpu(), labels[i].cpu(), predicted[i].cpu()) for i in range(len(images)) if predicted[i] != labels[i]][:5] # added .cpu()"
   ]
  },
  {
   "cell_type": "code",
   "execution_count": 15,
   "metadata": {},
   "outputs": [],
   "source": [
    "def imshow(img):\n",
    "    img = img / 2 + 0.5\n",
    "    npimg = img.numpy()\n",
    "    plt.imshow(np.transpose(npimg, (1, 2, 0)))\n",
    "    plt.show()"
   ]
  },
  {
   "cell_type": "code",
   "execution_count": 17,
   "metadata": {},
   "outputs": [
    {
     "name": "stdout",
     "output_type": "stream",
     "text": [
      "Примеры корректных предсказаний:\n",
      "['apple', 'aquarium_fish', 'baby', 'bear', 'beaver', 'bed', 'bee', 'beetle', 'bicycle', 'bottle', 'bowl', 'boy', 'bridge', 'bus', 'butterfly', 'camel', 'can', 'castle', 'caterpillar', 'cattle', 'chair', 'chimpanzee', 'clock', 'cloud', 'cockroach', 'couch', 'crab', 'crocodile', 'cup', 'dinosaur', 'dolphin', 'elephant', 'flatfish', 'forest', 'fox', 'girl', 'hamster', 'house', 'kangaroo', 'keyboard', 'lamp', 'lawn_mower', 'leopard', 'lion', 'lizard', 'lobster', 'man', 'maple_tree', 'motorcycle', 'mountain', 'mouse', 'mushroom', 'oak_tree', 'orange', 'orchid', 'otter', 'palm_tree', 'pear', 'pickup_truck', 'pine_tree', 'plain', 'plate', 'poppy', 'porcupine', 'possum', 'rabbit', 'raccoon', 'ray', 'road', 'rocket', 'rose', 'sea', 'seal', 'shark', 'shrew', 'skunk', 'skyscraper', 'snail', 'snake', 'spider', 'squirrel', 'streetcar', 'sunflower', 'sweet_pepper', 'table', 'tank', 'telephone', 'television', 'tiger', 'tractor', 'train', 'trout', 'tulip', 'turtle', 'wardrobe', 'whale', 'willow_tree', 'wolf', 'woman', 'worm']\n"
     ]
    },
    {
     "data": {
      "image/png": "[encoded data removed]",
      "text/plain": [
       "<Figure size 1500x300 with 5 Axes>"
      ]
     },
     "metadata": {},
     "output_type": "display_data"
    }
   ],
   "source": [
    "print(\"Примеры корректных предсказаний:\")\n",
    "classes = testset.classes\n",
    "print(classes)\n",
    "fig, axes = plt.subplots(1, len(correct_examples), figsize=(15, 3))\n",
    "for i, (image, label, prediction) in enumerate(correct_examples):\n",
    "    image = image.cpu() # Перемещаем тензор на CPU для matplotlib\n",
    "    axes[i].imshow(np.transpose(image.numpy() / 2 + 0.5, (1, 2, 0))) # Денормализация и транспонирование для matplotlib\n",
    "    axes[i].set_title(f\"True: {classes[label]}\\nPred: {classes[prediction]}\")\n",
    "    axes[i].axis('off') # Убираем оси\n",
    "plt.show()"
   ]
  },
  {
   "cell_type": "code",
   "execution_count": 18,
   "metadata": {},
   "outputs": [
    {
     "name": "stdout",
     "output_type": "stream",
     "text": [
      "Примеры ошибочных предсказаний:\n"
     ]
    },
    {
     "data": {
      "image/png": "[encoded data removed]",
      "text/plain": [
       "<Figure size 1500x300 with 5 Axes>"
      ]
     },
     "metadata": {},
     "output_type": "display_data"
    }
   ],
   "source": [
    "print(\"Примеры ошибочных предсказаний:\")\n",
    "fig, axes = plt.subplots(1, len(incorrect_examples), figsize=(15, 3))\n",
    "for i, (image, label, prediction) in enumerate(incorrect_examples):\n",
    "    image = image.cpu() # Перемещаем тензор на CPU для matplotlib\n",
    "    axes[i].imshow(np.transpose(image.numpy() / 2 + 0.5, (1, 2, 0))) # Денормализация и транспонирование для matplotlib\n",
    "    axes[i].set_title(f\"True: {classes[label]}\\nPred: {classes[prediction]}\")\n",
    "    axes[i].axis('off') # Убираем оси\n",
    "plt.show()"
   ]
  },
  {
   "cell_type": "markdown",
   "metadata": {},
   "source": [
    "### 3 - конвертация в ONNX и проверка качества и скорости\n",
    "### 3.1 Экспорт модели в ONNX"
   ]
  },
  {
   "cell_type": "code",
   "execution_count": 19,
   "metadata": {},
   "outputs": [
    {
     "name": "stdout",
     "output_type": "stream",
     "text": [
      "Exported graph: graph(%input : Float(*, 3, 32, 32, strides=[3072, 1024, 32, 1], requires_grad=0, device=cpu),\n",
      "      %fc1.weight : Float(512, 4096, strides=[4096, 1], requires_grad=1, device=cpu),\n",
      "      %fc1.bias : Float(512, strides=[1], requires_grad=1, device=cpu),\n",
      "      %fc2.weight : Float(100, 512, strides=[512, 1], requires_grad=1, device=cpu),\n",
      "      %fc2.bias : Float(100, strides=[1], requires_grad=1, device=cpu),\n",
      "      %onnx::Conv_33 : Float(32, 3, 3, 3, strides=[27, 9, 3, 1], requires_grad=0, device=cpu),\n",
      "      %onnx::Conv_34 : Float(32, strides=[1], requires_grad=0, device=cpu),\n",
      "      %onnx::Conv_36 : Float(64, 32, 3, 3, strides=[288, 9, 3, 1], requires_grad=0, device=cpu),\n",
      "      %onnx::Conv_37 : Float(64, strides=[1], requires_grad=0, device=cpu)):\n",
      "  %/conv1/Conv_output_0 : Float(*, 32, 32, 32, strides=[32768, 1024, 32, 1], requires_grad=1, device=cpu) = onnx::Conv[dilations=[1, 1], group=1, kernel_shape=[3, 3], pads=[1, 1, 1, 1], strides=[1, 1], onnx_name=\"/conv1/Conv\"](%input, %onnx::Conv_33, %onnx::Conv_34), scope: __main__.NetBN::/torch.nn.modules.conv.Conv2d::conv1 # /Users/olgashtykina/Desktop/ИТМО /MLOps/lab3/venv/lib/python3.12/site-packages/torch/nn/modules/conv.py:549:0\n",
      "  %/Relu_output_0 : Float(*, 32, 32, 32, strides=[32768, 1024, 32, 1], requires_grad=1, device=cpu) = onnx::Relu[onnx_name=\"/Relu\"](%/conv1/Conv_output_0), scope: __main__.NetBN:: # /Users/olgashtykina/Desktop/ИТМО /MLOps/lab3/venv/lib/python3.12/site-packages/torch/nn/functional.py:1704:0\n",
      "  %/pool/MaxPool_output_0 : Float(*, 32, 16, 16, strides=[8192, 256, 16, 1], requires_grad=1, device=cpu) = onnx::MaxPool[ceil_mode=0, dilations=[1, 1], kernel_shape=[2, 2], pads=[0, 0, 0, 0], strides=[2, 2], onnx_name=\"/pool/MaxPool\"](%/Relu_output_0), scope: __main__.NetBN::/torch.nn.modules.pooling.MaxPool2d::pool # /Users/olgashtykina/Desktop/ИТМО /MLOps/lab3/venv/lib/python3.12/site-packages/torch/nn/functional.py:830:0\n",
      "  %/conv2/Conv_output_0 : Float(*, 64, 16, 16, strides=[16384, 256, 16, 1], requires_grad=1, device=cpu) = onnx::Conv[dilations=[1, 1], group=1, kernel_shape=[3, 3], pads=[1, 1, 1, 1], strides=[1, 1], onnx_name=\"/conv2/Conv\"](%/pool/MaxPool_output_0, %onnx::Conv_36, %onnx::Conv_37), scope: __main__.NetBN::/torch.nn.modules.conv.Conv2d::conv2 # /Users/olgashtykina/Desktop/ИТМО /MLOps/lab3/venv/lib/python3.12/site-packages/torch/nn/modules/conv.py:549:0\n",
      "  %/Relu_1_output_0 : Float(*, 64, 16, 16, strides=[16384, 256, 16, 1], requires_grad=1, device=cpu) = onnx::Relu[onnx_name=\"/Relu_1\"](%/conv2/Conv_output_0), scope: __main__.NetBN:: # /Users/olgashtykina/Desktop/ИТМО /MLOps/lab3/venv/lib/python3.12/site-packages/torch/nn/functional.py:1704:0\n",
      "  %/pool_1/MaxPool_output_0 : Float(*, 64, 8, 8, strides=[4096, 64, 8, 1], requires_grad=1, device=cpu) = onnx::MaxPool[ceil_mode=0, dilations=[1, 1], kernel_shape=[2, 2], pads=[0, 0, 0, 0], strides=[2, 2], onnx_name=\"/pool_1/MaxPool\"](%/Relu_1_output_0), scope: __main__.NetBN::/torch.nn.modules.pooling.MaxPool2d::pool # /Users/olgashtykina/Desktop/ИТМО /MLOps/lab3/venv/lib/python3.12/site-packages/torch/nn/functional.py:830:0\n",
      "  %/Constant_output_0 : Long(2, strides=[1], device=cpu) = onnx::Constant[value=   -1  4096 [ CPULongType{2} ], onnx_name=\"/Constant\"](), scope: __main__.NetBN:: # /var/folders/m8/xclh77116fv8fn8ck2n6sm1r0000gn/T/ipykernel_89302/2684650662.py:15:0\n",
      "  %/Reshape_output_0 : Float(*, *, strides=[4096, 1], requires_grad=1, device=cpu) = onnx::Reshape[onnx_name=\"/Reshape\"](%/pool_1/MaxPool_output_0, %/Constant_output_0), scope: __main__.NetBN:: # /var/folders/m8/xclh77116fv8fn8ck2n6sm1r0000gn/T/ipykernel_89302/2684650662.py:15:0\n",
      "  %/fc1/Gemm_output_0 : Float(*, 512, strides=[512, 1], requires_grad=1, device=cpu) = onnx::Gemm[alpha=1., beta=1., transB=1, onnx_name=\"/fc1/Gemm\"](%/Reshape_output_0, %fc1.weight, %fc1.bias), scope: __main__.NetBN::/torch.nn.modules.linear.Linear::fc1 # /Users/olgashtykina/Desktop/ИТМО /MLOps/lab3/venv/lib/python3.12/site-packages/torch/nn/modules/linear.py:125:0\n",
      "  %/Relu_2_output_0 : Float(*, 512, strides=[512, 1], requires_grad=1, device=cpu) = onnx::Relu[onnx_name=\"/Relu_2\"](%/fc1/Gemm_output_0), scope: __main__.NetBN:: # /Users/olgashtykina/Desktop/ИТМО /MLOps/lab3/venv/lib/python3.12/site-packages/torch/nn/functional.py:1704:0\n",
      "  %output : Float(*, 100, strides=[100, 1], requires_grad=1, device=cpu) = onnx::Gemm[alpha=1., beta=1., transB=1, onnx_name=\"/fc2/Gemm\"](%/Relu_2_output_0, %fc2.weight, %fc2.bias), scope: __main__.NetBN::/torch.nn.modules.linear.Linear::fc2 # /Users/olgashtykina/Desktop/ИТМО /MLOps/lab3/venv/lib/python3.12/site-packages/torch/nn/modules/linear.py:125:0\n",
      "  return (%output)\n",
      "\n"
     ]
    }
   ],
   "source": [
    "dummy_input = torch.randn(batch_size, 3, 32, 32, device=\"cpu\") # Входные данные должны быть на CPU\n",
    "\n",
    "# Экспортируем модель\n",
    "torch.onnx.export(\n",
    "    model.cpu(),  # Модель должна быть на CPU\n",
    "    dummy_input,\n",
    "    \"model.onnx\",  # Имя ONNX файла\n",
    "    verbose=True,  # Выводит информацию о процессе экспорта\n",
    "    input_names=['input'],   # Имя входного тензора\n",
    "    output_names=['output'], # Имя выходного тензора\n",
    "    dynamic_axes={'input': {0: 'batch_size'},  # Указываем, что размер батча может меняться\n",
    "                   'output': {0: 'batch_size'}},\n",
    "    opset_version=11 #  Версия ONNX opset (выберите подходящую, например, 11)\n",
    ")"
   ]
  },
  {
   "cell_type": "markdown",
   "metadata": {},
   "source": [
    "### 3.2 Проверка ONNX модели (качество и скорость)"
   ]
  },
  {
   "cell_type": "code",
   "execution_count": 20,
   "metadata": {},
   "outputs": [],
   "source": [
    "# Загружаем ONNX модель\n",
    "onnx_model = onnx.load(\"model.onnx\")\n",
    "\n",
    "# Проверяем модель на корректность\n",
    "onnx.checker.check_model(onnx_model)\n",
    "\n",
    "# Создаем InferenceSession\n",
    "ort_session = onnxruntime.InferenceSession(\"model.onnx\", providers=['CPUExecutionProvider'])\n",
    "\n",
    "\n",
    "# Тестируем ONNX модель на одном батче\n",
    "dataiter = iter(testloader)\n",
    "images, labels = next(dataiter)\n",
    "images = images.cpu().numpy()  # Преобразуем в NumPy array и перемещаем на CPU\n",
    "\n",
    "# Выполняем inference\n",
    "ort_inputs = {ort_session.get_inputs()[0].name: images}\n",
    "ort_outs = ort_session.run(None, ort_inputs)\n",
    "\n",
    "# Получаем предсказания\n",
    "predicted = np.argmax(ort_outs[0], axis=1)"
   ]
  },
  {
   "cell_type": "code",
   "execution_count": 21,
   "metadata": {},
   "outputs": [
    {
     "name": "stdout",
     "output_type": "stream",
     "text": [
      "Батч 1: Выходные тензоры близки: True\n",
      "Сравнение предсказаний PyTorch и ONNX:\n",
      "  Количество совпадающих предсказаний: 1024\n",
      "  Количество несовпадающих предсказаний: 0\n",
      "  Процент совпавших предсказаний: 100.00%\n",
      "----------\n",
      "Батч 2: Выходные тензоры близки: True\n",
      "Сравнение предсказаний PyTorch и ONNX:\n",
      "  Количество совпадающих предсказаний: 1024\n",
      "  Количество несовпадающих предсказаний: 0\n",
      "  Процент совпавших предсказаний: 100.00%\n",
      "----------\n"
     ]
    }
   ],
   "source": [
    "# Тестируем ONNX модель\n",
    "\n",
    "num_batches_to_check = 2 # Количество батчей для проверки\n",
    "\n",
    "for i, (images, labels) in enumerate(testloader):\n",
    "    if i >= num_batches_to_check:\n",
    "        break\n",
    "\n",
    "    pytorch_model = model.cpu()\n",
    "    pytorch_model.eval()\n",
    "    with torch.no_grad():\n",
    "        pytorch_outputs = pytorch_model(images)\n",
    "    pytorch_predicted = torch.argmax(pytorch_outputs, dim=1).numpy()\n",
    "\n",
    "    # ONNX inference\n",
    "    images_np = images.cpu().numpy() # Сохраняем NumPy массив для ONNX\n",
    "    images = torch.from_numpy(images_np).to(device) # Преобразуем обратно в тензор и перемещаем на устройство\n",
    "\n",
    "    ort_inputs = {ort_session.get_inputs()[0].name: images_np} # ONNX работает с NumPy массивом\n",
    "    ort_outs = ort_session.run(None, ort_inputs)\n",
    "    onnx_predicted = np.argmax(ort_outs[0], axis=1)\n",
    "\n",
    "    # Сравнение\n",
    "    allclose = np.allclose(pytorch_outputs.numpy(), ort_outs[0], atol=1e-4)\n",
    "    print(f\"Батч {i+1}: Выходные тензоры близки: {allclose}\")\n",
    "\n",
    "    # PyTorch inference (для сравнения)\n",
    "    pytorch_model = model.cpu() # Убедимся, что модель на CPU\n",
    "    pytorch_model.eval()\n",
    "    with torch.no_grad():\n",
    "        pytorch_outputs = pytorch_model(images)\n",
    "    pytorch_predicted = torch.argmax(pytorch_outputs, dim=1).numpy()\n",
    "\n",
    "    # ONNX inference\n",
    "    images = images.cpu().numpy()  # Преобразуем в NumPy array и перемещаем на CPU\n",
    "    ort_inputs = {ort_session.get_inputs()[0].name: images}\n",
    "    ort_outs = ort_session.run(None, ort_inputs)\n",
    "    onnx_predicted = np.argmax(ort_outs[0], axis=1)\n",
    "\n",
    "\n",
    "    # Сравнение предсказаний\n",
    "    print(\"Сравнение предсказаний PyTorch и ONNX:\")\n",
    "    print(\"  Количество совпадающих предсказаний:\", np.sum(pytorch_predicted == onnx_predicted))\n",
    "    print(\"  Количество несовпадающих предсказаний:\", np.sum(pytorch_predicted != onnx_predicted))\n",
    "\n",
    "\n",
    "    # Вычисление процента совпавших предсказаний\n",
    "    match_percentage = np.sum(pytorch_predicted == onnx_predicted) / len(pytorch_predicted) * 100\n",
    "    print(f\"  Процент совпавших предсказаний: {match_percentage:.2f}%\")\n",
    "    print('-' * 10)"
   ]
  },
  {
   "cell_type": "markdown",
   "metadata": {},
   "source": [
    "#### Измеряем время выполнения ONNX модели"
   ]
  },
  {
   "cell_type": "code",
   "execution_count": 22,
   "metadata": {},
   "outputs": [
    {
     "name": "stdout",
     "output_type": "stream",
     "text": [
      "ONNX inference time: 0.0868 seconds\n"
     ]
    }
   ],
   "source": [
    "start_time = time.time()\n",
    "ort_session.run(None, ort_inputs)\n",
    "end_time = time.time()\n",
    "onnx_time = end_time - start_time\n",
    "print(f\"ONNX inference time: {onnx_time:.4f} seconds\")"
   ]
  },
  {
   "cell_type": "markdown",
   "metadata": {},
   "source": [
    "### 4.1 Сохранение ONNX модели в BentoML"
   ]
  },
  {
   "cell_type": "code",
   "execution_count": 24,
   "metadata": {},
   "outputs": [
    {
     "name": "stdout",
     "output_type": "stream",
     "text": [
      "Модель успешно экспортирована в ONNX!\n"
     ]
    }
   ],
   "source": [
    "model = NetBN()\n",
    "model.eval()\n",
    "\n",
    "dummy_input = torch.randn(1, 3, 32, 32, device=\"cpu\")  # Пример входных данных\n",
    "\n",
    "torch.onnx.export(\n",
    "    model,\n",
    "    dummy_input,\n",
    "    \"model.onnx\",\n",
    "    input_names=[\"input\"],\n",
    "    output_names=[\"output\"],\n",
    "    dynamic_axes={\n",
    "        \"input\": {0: \"batch_size\"},  # Поддержка динамического размера батча\n",
    "        \"output\": {0: \"batch_size\"}\n",
    "    },\n",
    "    opset_version=11  # Используйте opset 11 или выше\n",
    ")\n",
    "print(\"Модель успешно экспортирована в ONNX!\")"
   ]
  },
  {
   "cell_type": "code",
   "execution_count": 25,
   "metadata": {},
   "outputs": [
    {
     "name": "stderr",
     "output_type": "stream",
     "text": [
      "/var/folders/m8/xclh77116fv8fn8ck2n6sm1r0000gn/T/ipykernel_89302/3302604876.py:4: BentoMLDeprecationWarning: `bentoml.onnx` is deprecated since v1.4 and will be removed in a future version.\n",
      "  model_info = bentoml.onnx.save_model('model', onnx_model)\n"
     ]
    },
    {
     "name": "stdout",
     "output_type": "stream",
     "text": [
      "Model saved: Model(tag=\"model:j5fp4wfwoglmgbwl\")\n"
     ]
    }
   ],
   "source": [
    "onnx_model = onnx.load('model.onnx')\n",
    "\n",
    "# Сохранение модели в BentoML\n",
    "model_info = bentoml.onnx.save_model('model', onnx_model)\n",
    "print(f\"Model saved: {model_info}\")\n"
   ]
  },
  {
   "cell_type": "code",
   "execution_count": 27,
   "metadata": {},
   "outputs": [
    {
     "name": "stdout",
     "output_type": "stream",
     "text": [
      "graph main_graph (\n",
      "  %input[FLOAT, batch_sizex3x32x32]\n",
      ") initializers (\n",
      "  %fc1.weight[FLOAT, 512x4096]\n",
      "  %fc1.bias[FLOAT, 512]\n",
      "  %fc2.weight[FLOAT, 100x512]\n",
      "  %fc2.bias[FLOAT, 100]\n",
      "  %onnx::Conv_33[FLOAT, 32x3x3x3]\n",
      "  %onnx::Conv_34[FLOAT, 32]\n",
      "  %onnx::Conv_36[FLOAT, 64x32x3x3]\n",
      "  %onnx::Conv_37[FLOAT, 64]\n",
      ") {\n",
      "  %/conv1/Conv_output_0 = Conv[dilations = [1, 1], group = 1, kernel_shape = [3, 3], pads = [1, 1, 1, 1], strides = [1, 1]](%input, %onnx::Conv_33, %onnx::Conv_34)\n",
      "  %/Relu_output_0 = Relu(%/conv1/Conv_output_0)\n",
      "  %/pool/MaxPool_output_0 = MaxPool[ceil_mode = 0, dilations = [1, 1], kernel_shape = [2, 2], pads = [0, 0, 0, 0], strides = [2, 2]](%/Relu_output_0)\n",
      "  %/conv2/Conv_output_0 = Conv[dilations = [1, 1], group = 1, kernel_shape = [3, 3], pads = [1, 1, 1, 1], strides = [1, 1]](%/pool/MaxPool_output_0, %onnx::Conv_36, %onnx::Conv_37)\n",
      "  %/Relu_1_output_0 = Relu(%/conv2/Conv_output_0)\n",
      "  %/pool_1/MaxPool_output_0 = MaxPool[ceil_mode = 0, dilations = [1, 1], kernel_shape = [2, 2], pads = [0, 0, 0, 0], strides = [2, 2]](%/Relu_1_output_0)\n",
      "  %/Constant_output_0 = Constant[value = <Tensor>]()\n",
      "  %/Reshape_output_0 = Reshape(%/pool_1/MaxPool_output_0, %/Constant_output_0)\n",
      "  %/fc1/Gemm_output_0 = Gemm[alpha = 1, beta = 1, transB = 1](%/Reshape_output_0, %fc1.weight, %fc1.bias)\n",
      "  %/Relu_2_output_0 = Relu(%/fc1/Gemm_output_0)\n",
      "  %output = Gemm[alpha = 1, beta = 1, transB = 1](%/Relu_2_output_0, %fc2.weight, %fc2.bias)\n",
      "  return %output\n",
      "}\n"
     ]
    }
   ],
   "source": [
    "model = onnx.load(\"model.onnx\")\n",
    "print(onnx.helper.printable_graph(model.graph))"
   ]
  },
  {
   "cell_type": "code",
   "execution_count": 28,
   "metadata": {},
   "outputs": [
    {
     "name": "stdout",
     "output_type": "stream",
     "text": [
      "Выход модели: tensor([[ 0.0929,  0.1277, -0.1066, -0.0389, -0.0720, -0.1426,  0.0943,  0.0647,\n",
      "         -0.0497, -0.1783, -0.1016,  0.0161,  0.1777, -0.0733,  0.0368, -0.0859,\n",
      "          0.1355,  0.0833,  0.1620, -0.0519, -0.0321, -0.0914,  0.0171,  0.0402,\n",
      "         -0.0811,  0.1196, -0.0010, -0.1913,  0.0778, -0.0469, -0.0270,  0.0465,\n",
      "          0.1872, -0.0458, -0.0673, -0.0920,  0.0377,  0.0516,  0.0697,  0.0907,\n",
      "          0.1031, -0.0886,  0.0879,  0.1402, -0.1755,  0.1451,  0.0093, -0.0553,\n",
      "          0.0350,  0.0397,  0.0013, -0.0192, -0.0464, -0.0475, -0.0779, -0.1155,\n",
      "         -0.0478,  0.1391,  0.0947, -0.0150,  0.0113, -0.1615,  0.0753, -0.1470,\n",
      "          0.0456, -0.1066, -0.1042,  0.0877,  0.0122,  0.0600,  0.0416, -0.0034,\n",
      "          0.0948, -0.0684, -0.0351,  0.0480, -0.2253, -0.0241,  0.1591,  0.0261,\n",
      "         -0.1790,  0.0646, -0.0093, -0.1146, -0.1000, -0.0399,  0.0233,  0.0850,\n",
      "         -0.2756,  0.0318,  0.0507,  0.0310,  0.0672,  0.1223, -0.2261, -0.0800,\n",
      "         -0.0172,  0.0497, -0.1169, -0.1546]], grad_fn=<AddmmBackward0>)\n"
     ]
    }
   ],
   "source": [
    "model = NetBN()\n",
    "model.eval()  # Включаем режим оценки\n",
    "\n",
    "dummy_input = torch.randn(1, 3, 32, 32, device=\"cpu\")\n",
    "output = model(dummy_input)\n",
    "print(f\"Выход модели: {output}\")\n"
   ]
  },
  {
   "cell_type": "code",
   "execution_count": 31,
   "metadata": {},
   "outputs": [
    {
     "name": "stdout",
     "output_type": "stream",
     "text": [
      "['input']\n",
      "Inputs: ['input']\n",
      "Outputs: ['output']\n"
     ]
    }
   ],
   "source": [
    "model = onnx.load(\"model.onnx\")\n",
    "print([inp.name for inp in model.graph.input])\n",
    "print(\"Inputs:\", [inp.name for inp in model.graph.input])\n",
    "print(\"Outputs:\", [out.name for out in model.graph.output])"
   ]
  },
  {
   "cell_type": "code",
   "execution_count": 33,
   "metadata": {},
   "outputs": [
    {
     "name": "stdout",
     "output_type": "stream",
     "text": [
      "Files already downloaded and verified\n",
      "90\n"
     ]
    }
   ],
   "source": [
    "from torchvision import datasets, transforms\n",
    "from PIL import Image\n",
    "\n",
    "# Преобразования для загрузки данных\n",
    "transform = transforms.Compose([\n",
    "    transforms.ToTensor(),\n",
    "    transforms.Normalize((0.5, 0.5, 0.5), (0.5, 0.5, 0.5))\n",
    "])\n",
    "\n",
    "# Загрузка тестового набора CIFAR-100\n",
    "cifar100_test = datasets.CIFAR100(root='./data', train=False, download=True)\n",
    "\n",
    "def get_test_image(index):\n",
    "    image, label = cifar100_test[index]\n",
    "    \n",
    "    # Убедимся, что изображение остается в формате PIL\n",
    "    if not isinstance(image, Image.Image):\n",
    "        raise TypeError(\"Ожидалось изображение формата PIL.Image.Image\")\n",
    "\n",
    "    return image, label\n",
    "\n",
    "\n",
    "# Получаем тестовое изображение из набора данных\n",
    "index = 55  # Выберите индекс изображения для проверки\n",
    "for index in range(len(cifar100_test)):\n",
    "    image, true_label = get_test_image(index)\n",
    "    if true_label == 90:\n",
    "        image.save(\"test_image.png\")\n",
    "        print(true_label)\n",
    "        break\n",
    "\n",
    "# Сохраняем изображение во временный файл\n",
    "\n",
    "\n"
   ]
  },
  {
   "cell_type": "code",
   "execution_count": 34,
   "metadata": {},
   "outputs": [
    {
     "name": "stdout",
     "output_type": "stream",
     "text": [
      "86\n",
      "86\n"
     ]
    }
   ],
   "source": [
    "Предсказания_модели =  [[ 0.05252775,  0.09221028,  0.03430457,  0.02618705, -0.00098768, -0.01095299,\n",
    "   0.05462858,  0.00583726, -0.02481419, -0.01800504,  0.03846728, -0.01135343,\n",
    "   0.00587154,  0.05012177,  0.04293617,  0.0089918 ,  0.0450828 ,  0.02568796,\n",
    "   0.0049684 ,  0.0683031 , -0.00042762, -0.00359162, -0.04394936, -0.00207978,\n",
    "   0.01393015, -0.00442521, -0.06815515,  0.01085533, -0.06154749, -0.03924913,\n",
    "  -0.02413696, -0.05534253,  0.0296553 ,  0.05884004, -0.03218215, -0.1066132,\n",
    "   0.0014639 ,  0.00449299, -0.0172291 ,  0.00324668,  0.0324656 ,  0.03362614,\n",
    "  -0.03693506, -0.00198995, -0.05162738,  0.00266843,  0.0638847 ,  0.01650134,\n",
    "  -0.05344574,  0.04742242, -0.05238026, -0.01484452, -0.0329713 , -0.02386306,\n",
    "  -0.09885512, -0.00761616,  0.00329509,  0.02040965,  0.06252515, -0.02462349,\n",
    "  -0.01357918, -0.02723316, -0.0141856 , -0.00944939,  0.0272883 , -0.04567043,\n",
    "   0.04106239, -0.06272586, -0.03844174, -0.04477257,  0.00347908,  0.04951301,\n",
    "  -0.04091697, -0.02564267,  0.00882641,  0.03433892, -0.00627957,  0.00691216,\n",
    "   0.01513059, -0.063981  ,  0.02678045,  0.0755907 ,  0.02515469, -0.01445019,\n",
    "   0.00590374, -0.00361215,  0.10981321,  0.02743248,  0.00513484, -0.00297958,\n",
    "   0.03737761,  0.00138457, -0.01087777,  0.07175264, -0.07444374,  0.01662439,\n",
    "  -0.04005085, -0.04793993, -0.02037536, -0.04286731]]\n",
    "\n",
    "Предсказания_модели_2 = [[ 0.02275437,  0.11194085,  0.01090562,  0.04444422, -0.0137661,   0.03066877,\n",
    "   0.08573227,  0.01233844,  0.02726423, -0.04179883,  0.02312686, -0.03754495,\n",
    "   0.00144991,  0.05260397,  0.03391289, -0.03487739,  0.03372299,  0.02582743,\n",
    "   0.00650662,  0.05231199,  0.00645558,  0.00188751,  0.00117265,  0.0096965,\n",
    "   0.00740847, -0.02461424, -0.03226116, -0.04985425, -0.08529495,  0.02295388,\n",
    "  -0.06884638, -0.07331162,  0.05683734,  0.04121794, -0.03858969, -0.13839206,\n",
    "  -0.0101495 ,  0.00602387,  0.00261351, -0.06169346,  0.04998262,  0.05129063,\n",
    "  -0.00082454, -0.01160536, -0.02691049,  0.03053112,  0.03649314,  0.0070515,\n",
    "  -0.06157798,  0.03331311, -0.05542872,  0.0255947 , -0.03518035, -0.06720892,\n",
    "  -0.08607268, -0.01472732,  0.00210573,  0.03916719,  0.06278649, -0.00666796,\n",
    "   0.00532947, -0.06364912, -0.0313621 ,  0.01405161,  0.03254362, -0.07201681,\n",
    "   0.04215445, -0.11946775, -0.01214163, -0.05937753,  0.01282484,  0.006465,\n",
    "  -0.01529737,  0.035311  , -0.04187198, -0.00170931, -0.0487738 ,  0.01111471,\n",
    "   0.03663025, -0.08541523, -0.01437913,  0.09503654,  0.04578561, -0.01901516,\n",
    "   0.03099642,  0.00561335,  0.1582847 ,  0.00772656,  0.0125315 ,  0.03202377,\n",
    "   0.09697147,  0.02665378,  0.0602647 ,  0.05326942, -0.04265054,  0.02773342,\n",
    "  -0.07700897, -0.07368489, -0.08893417, -0.02308369,]]\n",
    "\n",
    "print(np.argmax(Предсказания_модели[0]))\n",
    "print(np.argmax(Предсказания_модели_2[0]))"
   ]
  },
  {
   "cell_type": "code",
   "execution_count": null,
   "metadata": {},
   "outputs": [],
   "source": []
  }
 ],
 "metadata": {
  "kernelspec": {
   "display_name": "venv",
   "language": "python",
   "name": "python3"
  },
  "language_info": {
   "codemirror_mode": {
    "name": "ipython",
    "version": 3
   },
   "file_extension": ".py",
   "mimetype": "text/x-python",
   "name": "python",
   "nbconvert_exporter": "python",
   "pygments_lexer": "ipython3",
   "version": "3.12.3"
  }
 },
 "nbformat": 4,
 "nbformat_minor": 2
}
